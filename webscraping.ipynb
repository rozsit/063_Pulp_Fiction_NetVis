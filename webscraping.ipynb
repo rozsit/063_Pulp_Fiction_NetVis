{
 "cells": [
  {
   "cell_type": "code",
   "execution_count": 1,
   "id": "60216815-cfe9-4a2b-8dd7-a5400a78caaf",
   "metadata": {},
   "outputs": [
    {
     "name": "stdout",
     "output_type": "stream",
     "text": [
      "['Pumpkin', 'Honey Bunny', 'Waitress', 'Vincent Vega', 'Jules Winnfield', 'Marvin', 'Brett', 'Roger', 'Butch Coolidge', 'Marsellus Wallace', 'Paul', 'Trudi', 'Jody', 'Lance', 'Mia Wallace', 'Ed Sullivan', 'Phillip Morris Page', 'Ricky Nelson', 'Marilyn Monroe', 'James Dean', 'Dean Martin', 'Jerry Lewis', 'Buddy Holly', 'Mamie Van Doren', \"'Hold Hands You Love Birds'\", \"Butch's Mother\", 'Captain Koons', 'Young Butch', 'Klondike', 'Sportscaster #1', 'Coffee Shop', 'Sportscaster #2', 'Esmarelda Villalobos', \"Wilson's Trainer\", 'Dead Floyd Wilson', 'Fabienne', 'Gawker #1', 'Kathy Griffin', 'Pedestrian', 'Bonnie', 'Shot Lady', 'Maynard', 'Zed', 'The Gimp', 'Fourth Man', 'Jimmie', 'The Wolf', 'Raquel', 'Long Hair Yuppie-Scum', \"Winston Wolfe's Girlfriend at Party\", 'Bar Tender', 'The Gimp', 'Young Boy', 'Dowager at Bar', 'Dancing Man', 'Lucky Lady', 'Drug Dealer', 'Hopalong Cassidy', 'Diner Patron #2', 'Woman in Bathroom', 'Diner Patron']\n"
     ]
    }
   ],
   "source": [
    "import requests\n",
    "from bs4 import BeautifulSoup\n",
    "\n",
    "# IMDB page of Pulp Fiction's charcaters\n",
    "url = 'https://www.imdb.com/title/tt0110912/fullcredits'\n",
    "\n",
    "# HTTP header\n",
    "headers = {\n",
    "    'User-Agent': 'Mozilla/5.0 (Windows NT 10.0; Win64; x64) AppleWebKit/537.36 (KHTML, like Gecko) Chrome/58.0.3029.110 Safari/537.3'}\n",
    "\n",
    "# HTTP GET\n",
    "response = requests.get(url, headers=headers)\n",
    "\n",
    "# Main loop\n",
    "if response.status_code == 200:\n",
    "    # HTML content\n",
    "    soup = BeautifulSoup(response.content, 'html.parser')\n",
    "    \n",
    "    # scraping the characters' name\n",
    "    cast_list = soup.find_all('td', class_='character')\n",
    "    character_names = []\n",
    "    for cast in cast_list:\n",
    "        # search all 'a' taget inside the 'td' elements\n",
    "        a_tags = cast.find_all('a')\n",
    "        for a in a_tags:\n",
    "            if '/characters/' in a.get('href', ''):\n",
    "                character_names.append(a.get_text(strip=True))\n",
    "    \n",
    "    print(character_names)\n",
    "else:\n",
    "    print(f\"Page load or read error: {response.status_code}\")\n"
   ]
  }
 ],
 "metadata": {
  "kernelspec": {
   "display_name": "Python 3 (ipykernel)",
   "language": "python",
   "name": "python3"
  },
  "language_info": {
   "codemirror_mode": {
    "name": "ipython",
    "version": 3
   },
   "file_extension": ".py",
   "mimetype": "text/x-python",
   "name": "python",
   "nbconvert_exporter": "python",
   "pygments_lexer": "ipython3",
   "version": "3.12.1"
  }
 },
 "nbformat": 4,
 "nbformat_minor": 5
}
